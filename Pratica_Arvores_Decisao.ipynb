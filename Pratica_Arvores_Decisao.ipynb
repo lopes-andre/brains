{
  "cells": [
    {
      "cell_type": "markdown",
      "metadata": {
        "id": "view-in-github",
        "colab_type": "text"
      },
      "source": [
        "<a href=\"https://colab.research.google.com/github/lopes-andre/brains/blob/main/Pratica_Arvores_Decisao.ipynb\" target=\"_parent\"><img src=\"https://colab.research.google.com/assets/colab-badge.svg\" alt=\"Open In Colab\"/></a>"
      ]
    },
    {
      "cell_type": "markdown",
      "id": "fc96b35a",
      "metadata": {
        "id": "fc96b35a"
      },
      "source": [
        "<h1><center>BRAINS - Brazilian AI Networks 🧠</center></h1>\n",
        "\n",
        "<center><i>BRAINS - Brazilian AI Networks - é uma comunidade de estudantes brasileiros que tem como objetivo trazer conteúdo de qualidade sobre AI, Machine Learning e Dados para o Brasil, em Português.</i> 🇧🇷</center>\n",
        "\n",
        "<h1><center>Prática: Árvores de Decisão</center></h1>"
      ]
    },
    {
      "cell_type": "markdown",
      "id": "675cf892",
      "metadata": {
        "id": "675cf892"
      },
      "source": [
        "## Introdução\n",
        "\n",
        "Iremos agora, neste notebook, abordar de forma prática a construção de modelos de **Árvores de Decisão** (ou *Decision Trees*), para um problema de Classificação Binária.\n",
        "\n",
        "Já conversamos sobre a teoria dos Modelos de Classificação e também das Árvores de Decisão nos seguintes posts.\n",
        "\n",
        "- [Árvores de Decisão: Algoritmos Baseados em Árvores](https://brains.dev/2023/arvores-de-decisao-algoritmos-baseados-em-arvores/)\n",
        "\n",
        "\n",
        "- [Medidas de Performance: Modelos de Classificação](https://brains.dev/2023/medidas-de-performance-modelos-de-classificacao/)\n",
        "\n",
        "\n",
        "Se você ainda não leu estes dois posts, a leitura é recomendada. Mas se você já leu, ou domina os temas, bora programar!\n",
        "\n",
        "## Objetivos\n",
        "\n",
        "Para minimizar as perdas de um banco fictício, precisamos desenvolver um processo de tomada de decisão sobre para quem o banco deve aprovar empréstimos e para quem não. Os perfis demográfico e socioeconômico do cliente são considerados pelos fictícios gerentes de empréstimos antes da tomada de decisão sobre o pedido de empréstimo.\n",
        "\n",
        "Com base na base de dados de clientes que pegaram empréstimos no banco fictício, temos classificados os clientes inadimplentes e os clientes e quitaram as suas dívidas.\n",
        "\n",
        "Nosso objetivo é construir um Modelo de Machine Learning que irá prever se um cliente que aplica para um empréstimo pode ser ou não um cliente inadimplente.\n",
        "\n",
        "## Descrição dos Dados\n",
        "\n",
        "Nossa base de dados é um dataset público, disponibilizado pelo *Center for Machine Learning and Intelligent Systems*  da Universidade da Califórnia, UCI. \n",
        "\n",
        "Link do dataset: https://archive.ics.uci.edu/ml/datasets/statlog+(german+credit+data)\n",
        "\n",
        "> ***Nota:*** *Trata-se de um dataset de um banco da Alemanha, doado para uso público em 1994. Toda a base de dados original está em Inglês. Foi feita uma tradução livre e pequenas manipulações de dados para fins didáticos.*\n",
        "\n",
        "A base de dados é composta pelas seguintes colunas.\n",
        "\n",
        "- **saldo_corrente:** saldo na conta corrente (categórica).\n",
        "\n",
        "- **duracao_emp_meses:** duração do empréstimo, em meses (numérica).\n",
        "\n",
        "- **historico_credito:** histórico de crédito (categórica).\n",
        "\n",
        "- **motivo:** motivo para pedido de empréstimo (categórica).\n",
        "\n",
        "- **quantia:** valor do empréstimo pedido (numérica).\n",
        "\n",
        "- **saldo_poupanca:** saldo na conta poupança (categórica).\n",
        "\n",
        "- **tempo_empregado:** tempo no emprego atual (categórica).\n",
        "\n",
        "- **porcentagem_renda:** porcentagem da renda comprometida pela parcela do empréstimo (numérica).\n",
        "\n",
        "- **anos_residencia:** tempo de moradia na residência atual, em anos (numérica).\n",
        "\n",
        "- **idade:** idade do cliente, em anos (numérica).\n",
        "\n",
        "- **outro_credito:** se o cliente possui empréstimos em outros estabelecimentos (categórica).\n",
        "\n",
        "- **residencia:** se mora em residência própria ou alugada (categórica).\n",
        "\n",
        "- **qtd_emprestimos_existentes:** quantidade de empréstimos existentes neste banco (numérica).\n",
        "\n",
        "- **emprego:** categoria de emprego (categórica).\n",
        "\n",
        "- **dependentes:** quantidade de dependentes (numérica).\n",
        "\n",
        "- **telefone:** se o cliente possui telefone, informação relevante na época (categórica).\n",
        "\n",
        "- **inadimplente:** classificação se o cliente foi inadimplente ou não, nossa **variável alvo**.\n",
        "\n",
        "<br><br>\n",
        "## Importando as Bibliotecas"
      ]
    },
    {
      "cell_type": "code",
      "source": [
        "# !pip install sklearn"
      ],
      "metadata": {
        "id": "GaXXGcAK7uHO"
      },
      "id": "GaXXGcAK7uHO",
      "execution_count": null,
      "outputs": []
    },
    {
      "cell_type": "code",
      "execution_count": null,
      "id": "8d0de157",
      "metadata": {
        "id": "8d0de157"
      },
      "outputs": [],
      "source": [
        "# Manipulação de dados\n",
        "import numpy as np\n",
        "import pandas as pd\n",
        "\n",
        "# Visualização de dados\n",
        "import matplotlib.pyplot as plt\n",
        "import seaborn as sns\n",
        "\n",
        "# Divisão dos dados\n",
        "from sklearn.model_selection import train_test_split\n",
        "\n",
        "# Algoritmos de Machine Learning\n",
        "from sklearn import tree\n",
        "from sklearn.tree import DecisionTreeClassifier\n",
        "\n",
        "# Métricas de performance\n",
        "from sklearn import metrics\n",
        "from sklearn.metrics import (f1_score,\n",
        "                            accuracy_score,\n",
        "                            recall_score,\n",
        "                            precision_score,\n",
        "                            confusion_matrix,\n",
        "                            plot_confusion_matrix,\n",
        "                            roc_auc_score)\n",
        "\n",
        "# Ajustes de Hiperparametros\n",
        "from sklearn.model_selection import GridSearchCV\n",
        "\n",
        "# Optional para Annotations das funções\n",
        "from typing import Optional\n",
        "\n",
        "# Ignorar alertas\n",
        "import warnings\n",
        "warnings.filterwarnings('ignore')"
      ]
    },
    {
      "cell_type": "markdown",
      "id": "d26a7d57",
      "metadata": {
        "id": "d26a7d57"
      },
      "source": [
        "Nós iremos construir nosso modelo de Árvores de Decisão usando a biblioteca [`scikit-learn`](https://scikit-learn.org/stable/).\n",
        "\n",
        "<br>\n",
        "\n",
        "## Carregando e Explorando os Dados"
      ]
    },
    {
      "cell_type": "code",
      "execution_count": null,
      "id": "3cc67759",
      "metadata": {
        "id": "3cc67759"
      },
      "outputs": [],
      "source": [
        "import ssl\n",
        "ssl._create_default_https_context = ssl._create_unverified_context\n",
        "\n",
        "# Local do dataset online\n",
        "url_dataset = 'https://raw.githubusercontent.com/lopes-andre/datasets/main/credito.csv'\n",
        "\n",
        "# Carrega os dados em um DataFrame\n",
        "data = pd.read_csv(url_dataset)\n",
        "data.head()"
      ]
    },
    {
      "cell_type": "code",
      "execution_count": null,
      "id": "7c9e071d",
      "metadata": {
        "id": "7c9e071d"
      },
      "outputs": [],
      "source": [
        "# Verifica o shape dos dados\n",
        "print(f'Shape dos dados: {data.shape}\\n')\n",
        "\n",
        "print(f'Esta base de dados tem {data.shape[0]} linhas e {data.shape[1]} colunas.')"
      ]
    },
    {
      "cell_type": "code",
      "execution_count": null,
      "id": "56d4a6f9",
      "metadata": {
        "id": "56d4a6f9"
      },
      "outputs": [],
      "source": [
        "# Resumo Estatístico dos dados\n",
        "data.describe()"
      ]
    },
    {
      "cell_type": "markdown",
      "id": "ea517136",
      "metadata": {
        "id": "ea517136"
      },
      "source": [
        "#### Observações\n",
        "\n",
        "- Nós podemos com apenas uma linha de código ver todo o resumo estatístico dos dados.\n",
        "\n",
        "\n",
        "- Este método nos retorna as seguintes informações:\n",
        "\n",
        "  - Contagem de entradas de cada coluna.\n",
        "\n",
        "  - Média.\n",
        "\n",
        "  - Desvio Padrão.\n",
        "\n",
        "  - Valores mínimo e máximo de cada coluna.\n",
        "\n",
        "  - Primeiro quartil, Mediana e terceiro quartil.\n",
        "  \n",
        "\n",
        "- Todas as entradas numéricas são retornadas.\n",
        "\n",
        "\n",
        "Para analisar os dados das colunas Categóricas, podemos usar um outro trecho de código. A célula abaixo irá isolar as colunas do tipo `object` e analisar as entradas de cada uma destas colunas."
      ]
    },
    {
      "cell_type": "code",
      "execution_count": null,
      "id": "951c947f",
      "metadata": {
        "id": "951c947f"
      },
      "outputs": [],
      "source": [
        "# Lista de variáveis categóricas\n",
        "colunas_cat = data.select_dtypes(include=['object']).columns.tolist()\n",
        "\n",
        "# Loop para imprimir a contagem de valores únicos em cada coluna categórica\n",
        "for coluna in colunas_cat:\n",
        "    print(f'### Coluna <{coluna}> ###')\n",
        "    print(data[coluna].value_counts())\n",
        "    print('-' * 40)"
      ]
    },
    {
      "cell_type": "code",
      "execution_count": null,
      "id": "60e3ac46",
      "metadata": {
        "id": "60e3ac46"
      },
      "outputs": [],
      "source": [
        "# Verifica os tipos das colunas e quantidade de entradas\n",
        "data.info()"
      ]
    },
    {
      "cell_type": "code",
      "execution_count": null,
      "id": "380bf733",
      "metadata": {
        "id": "380bf733"
      },
      "outputs": [],
      "source": [
        "# Verificando dados nulos\n",
        "print('Colunas com dados nulos:')\n",
        "display(data.isnull().sum()[data.isnull().sum() > 0])"
      ]
    },
    {
      "cell_type": "markdown",
      "id": "f9165e18",
      "metadata": {
        "id": "f9165e18"
      },
      "source": [
        "### Observações sobre o Resumo dos Dados\n",
        "\n",
        "- Os valores monetários estão em Deutsche Mark (DM), moeda da Alemanha na época, anterior ao Euro.\n",
        "\n",
        "\n",
        "- As colunas `duracao_emp_meses` , `porcentagem_renda` e `anos_residencia` têm valores nulos/faltantes. Valores nulos podem causar resultados inesperados em modelos preditivos, portanto iremos tratar esses valores com Engenharia de Atributos.\n",
        "\n",
        "\n",
        "- A média de idade é aproximadamente 35 anos e a mediana é 33 anos.\n",
        "\n",
        "\n",
        "- A média de valor dos empréstimos está em torno de 3271 DM (Deutsche Mark), mas há um grande range de 250 DM a 18434 DM. Poderíamos analisar melhor estes dados na Análise Exploratória de Dados.\n",
        "\n",
        "\n",
        "- A média de parcelas dos empréstimos está em torno de 21 meses e a mediana em 18 meses.\n",
        "\n",
        "\n",
        "- Temos poucos clientes desempregados na base de dados.\n",
        "\n",
        "\n",
        "- Há uma classe na coluna `motivo` que parece ter sofrido erro de digitação. Iremos tratar isso com a Engenharia de Atributos.\n",
        "\n",
        "\n",
        "- A nossa variável alvo, `inadimplente`, está desbalanceada. Apenas 30% das observações estão na Classe 1 (inadimplente) e 70% na Classe 0 (não inadimplente).\n",
        "\n",
        "\n",
        "A Análise Exploratória dos Dados para este Dataset pode ficar bem extensa, portanto deixaremos para abordar ela completa em outro post, ok?\n",
        "\n",
        "Vamos direto para a **Engenharia de Atributos** (ou ***Feature Engineering***)."
      ]
    },
    {
      "cell_type": "markdown",
      "id": "4f0ea029",
      "metadata": {
        "id": "4f0ea029"
      },
      "source": [
        "## Engenharia de Atributos\n",
        "\n",
        "Durante a fase de Engenharia de Atributos iremos preparar o dataset para a modelagem preditiva. Poderíamos ter realizado algumas dessas transformações antes da Análise Exploratória de Dados, mas para fins didáticos centralizamos aqui nesta sessão todos os passos.\n",
        "\n",
        "### Corrigindo Erros nos Atributos\n",
        "\n",
        "Como mencionado acima, há um erro de digitação em uma das categorias do atributo `motivo` . Vamos analisar este ponto e corrigir conforme necessário."
      ]
    },
    {
      "cell_type": "code",
      "execution_count": null,
      "id": "c092c622",
      "metadata": {
        "id": "c092c622"
      },
      "outputs": [],
      "source": [
        "# Exibe as categorias da variável motivo\n",
        "data['motivo'].value_counts()"
      ]
    },
    {
      "cell_type": "code",
      "execution_count": null,
      "id": "ab2f18f7",
      "metadata": {
        "id": "ab2f18f7"
      },
      "outputs": [],
      "source": [
        "# Corrige o erro de digitação\n",
        "corrige_carro = {'carr0': 'carro'}\n",
        "data.replace(corrige_carro, inplace=True)\n",
        "\n",
        "# Verifica as categorias novamente\n",
        "data['motivo'].value_counts()"
      ]
    },
    {
      "cell_type": "markdown",
      "id": "7d302261",
      "metadata": {
        "id": "7d302261"
      },
      "source": [
        "Note que a entrada `\"carr0\"`, que era aparentemente um erro de digitação, já não existe mais. \n",
        "\n",
        "O problema foi corrigido. Nós substituímos as entradas `\"carr0\"` por `\"carro\"`."
      ]
    },
    {
      "cell_type": "markdown",
      "id": "fe4e1d6e",
      "metadata": {
        "id": "fe4e1d6e"
      },
      "source": [
        "## Transformando Variáveis Categóricas em Numéricas para Modelagem\n",
        "\n",
        "A maioria dos algoritmos de Machine Learning não lidam bem com variáveis categóricas em forma de texto. Para isto, precisamos converter as variáveis categóricas em numéricas, para facilitar os cálculos matemáticos dos algoritmos.\n",
        "\n",
        "As variáveis ordinais, que apresentam uma ordem lógica, podem ser convertidas usando a mesma função acima, porém com uma lógica diferente: atribuindo valores numéricos sequenciais."
      ]
    },
    {
      "cell_type": "code",
      "execution_count": null,
      "id": "31d13ec6",
      "metadata": {
        "id": "31d13ec6"
      },
      "outputs": [],
      "source": [
        "# Convertendo variáveis Categóricas Ordinais\n",
        "conversao_variaveis = {\n",
        "    'saldo_corrente': {\n",
        "        'desconhecido': -1,\n",
        "        '< 0 DM': 1,\n",
        "        '1 - 200 DM': 2,\n",
        "        '> 200 DM': 3,\n",
        "    },\n",
        "    'historico_credito': {\n",
        "        'critico': 1,\n",
        "        'ruim': 2,\n",
        "        'bom': 3,\n",
        "        'muito bom': 4,\n",
        "        'perfeito': 5\n",
        "    },\n",
        "    'saldo_poupanca': {\n",
        "        'desconhecido': -1,\n",
        "        '< 100 DM': 1,\n",
        "        '100 - 500 DM': 2,\n",
        "        '500 - 1000 DM': 3,\n",
        "        '> 1000 DM': 4,\n",
        "    },\n",
        "    'tempo_empregado': {\n",
        "        'desempregado': 1,\n",
        "        '< 1 ano': 2,\n",
        "        '1 - 4 anos': 3,\n",
        "        '4 - 7 anos': 4,\n",
        "        '> 7 anos': 5,\n",
        "    },\n",
        "    'telefone': {\n",
        "        'nao': 1,\n",
        "        'sim': 2,\n",
        "    }\n",
        "}\n",
        "\n",
        "data.replace(conversao_variaveis, inplace=True)\n",
        "data.sample(5)"
      ]
    },
    {
      "cell_type": "markdown",
      "id": "eb039e17",
      "metadata": {
        "id": "eb039e17"
      },
      "source": [
        "### OneHotEncoding para Variáveis Não Ordinais\n",
        "\n",
        "Para variáveis categóricas podemos aplicar a técnica de **OneHotEncoding**. Nesta técnica, cada categoria se transforma em uma coluna de valores binários (0 ou 1). Por exemplo, o atributo `motivo` que possui 5 categorias, vai se transformar em 4 colunas distintas.\n",
        "\n",
        "#### Exemplo\n",
        "\n",
        "O atributo `motivo` possui 5 categorias:\n",
        "\n",
        "1. moveis/eletrodomesticos\n",
        "2. carro\n",
        "3. negocios\n",
        "4. educacao\n",
        "5. renovacao\n",
        "\n",
        "Ao aplicar a técnica de OneHotEncoding, o DataFrame ficaria da seguinte forma.\n",
        "\n",
        "| motivo | motivo_carro | motivo_negocios | motivo_educacao | motivo_renovacao |\n",
        "| --- | --- | --- | --- | --- |\n",
        "| carro | 1 | 0 | 0 | 0 |\n",
        "| negocios | 0 | 1 | 0 | 0 |\n",
        "| educacao | 0 | 0 | 1 | 0 |\n",
        "| renovacao | 0 | 0 | 0 | 1 |\n",
        "| moveis/eletrodomesticos | 0 | 0 | 0 | 0 |\n",
        "\n",
        "Para evitar a Multicolinearidade, nós configuramos a função para dropar a primeira coluna, pois ela não é necessária. Caso a observação não se encaixe em nenhuma das 4 categorias acima, ela obviamente vai se encaixar na quinta, que no nosso caso é a `moveis/eletrodomesticos` . 0 em todas as colunas significa que está nesta categoria."
      ]
    },
    {
      "cell_type": "code",
      "execution_count": null,
      "id": "a5795ada",
      "metadata": {
        "id": "a5795ada"
      },
      "outputs": [],
      "source": [
        "# Gera a lista de variáveis categóricas\n",
        "cols_cat = data.select_dtypes(include='object').columns.tolist()\n",
        "\n",
        "# Removendo 'inadimplente' pois é nossa variável Alvo\n",
        "cols_cat.remove('inadimplente')\n",
        "\n",
        "cols_cat"
      ]
    },
    {
      "cell_type": "code",
      "execution_count": null,
      "id": "0bdee841",
      "metadata": {
        "id": "0bdee841"
      },
      "outputs": [],
      "source": [
        "# Implementa o OneHotEncoding\n",
        "data = pd.get_dummies(data, columns=cols_cat, drop_first=True)\n",
        "\n",
        "data.head()"
      ]
    },
    {
      "cell_type": "markdown",
      "id": "4d3963ab",
      "metadata": {
        "id": "4d3963ab"
      },
      "source": [
        "### Convertendo a Variável Alvo\n",
        "\n",
        "A nossa variável alvo, `inadimplente` é a única variável que ainda precisa ser convertida. Para classificação binária (duas classes) vamos dividir as classes em Classe 0 (não) e Classe 1 (sim).\n",
        "\n",
        "Ficando desta forma as entradas 0 para não inadimplentes e 1 para clientes inadimplentes."
      ]
    },
    {
      "cell_type": "code",
      "execution_count": null,
      "id": "9c906118",
      "metadata": {
        "id": "9c906118"
      },
      "outputs": [],
      "source": [
        "# Convertendo a variável alvo\n",
        "conversao_alvo = {\n",
        "    'inadimplente': {'nao': 0, 'sim': 1}\n",
        "}\n",
        "\n",
        "data.replace(conversao_alvo, inplace=True)\n",
        "data['inadimplente']"
      ]
    },
    {
      "cell_type": "markdown",
      "id": "5cd08caf",
      "metadata": {
        "id": "5cd08caf"
      },
      "source": [
        "## Lidando com Valores Faltantes\n",
        "\n",
        "**Existem diversas formas de tratar valores faltantes.** Nós podemos remover as entradas, substituir os valores faltantes com a Média ou Mediana das colunas, ou muitas outras abordagens.\n",
        "\n",
        "Ao invés de dropar/remover essas linhas com valores faltantes, iremos **substituir os valores faltantes** com a sua **Média**."
      ]
    },
    {
      "cell_type": "code",
      "execution_count": null,
      "id": "715e129e",
      "metadata": {
        "id": "715e129e"
      },
      "outputs": [],
      "source": [
        "# Imputando os valores nulos com a média\n",
        "data = data.fillna(data.mean())"
      ]
    },
    {
      "cell_type": "code",
      "execution_count": null,
      "id": "7ca3fa3c",
      "metadata": {
        "id": "7ca3fa3c"
      },
      "outputs": [],
      "source": [
        "# Verifica valores nulos novamente\n",
        "data.isnull().sum()"
      ]
    },
    {
      "cell_type": "markdown",
      "id": "99c93aef",
      "metadata": {
        "id": "99c93aef"
      },
      "source": [
        "Não temos mais dados nulos/faltantes.\n",
        "\n",
        "<center><strong>Neste ponto, finalizamos a preparação dos dados</strong></center>\n",
        "\n",
        "<br>\n",
        "\n",
        "## Divisão dos Dados\n",
        "\n",
        "Iremos agora separar as características de cada paciente, as variáveis independentes, da nossa variável alvo, ou variável dependente.\n",
        "\n",
        "Lembre-se que chamamos de `X` o conjunto de características (*features*) e chamamos de `y` a nossa resposta de interesse, nossa variável alvo a ser descoberta (*target*).\n",
        "\n",
        "Será necessário também adicionar uma constante de `1.0` à matriz `X` de características para que o algoritmo possa realizar seus cálculos de forma precisa e eficiente."
      ]
    },
    {
      "cell_type": "code",
      "execution_count": null,
      "id": "abeead1c",
      "metadata": {
        "id": "abeead1c"
      },
      "outputs": [],
      "source": [
        "# Variáveis independentes (características)\n",
        "X = data.drop(['inadimplente'], axis=1)\n",
        "\n",
        "# Variável dependente (alvo)\n",
        "y = data['inadimplente']"
      ]
    },
    {
      "cell_type": "markdown",
      "id": "e4ecf3dd",
      "metadata": {
        "id": "e4ecf3dd"
      },
      "source": [
        "Precisamos agora dividir a nossa base de dados entre Treino e Teste. Já discutimos a importância desta divisão, onde separamos uma parte dos dados (70% neste caso) para realizarmos o treino do modelo e uma outra parte (30%) para testarmos e vermos se o modelo de fato aprendeu, ou se apenas \"decorou\" respostas e se \"ajustou demais\" ao problema (*Overfitting*).\n",
        "\n",
        "Como temos um certo desbalanceio na nossa variável alvo, é interessante mantermos as mesmas proporções de classes positivas e negativas tanto na base de treino quanto na de teste. A divisão é aleatória, e não devemos perder esta proporção. \n",
        "\n",
        "Para isso, iremos fazer uso do argumento `stratify=y` da função `train_test_split()` disponível na biblioteca Scikit-learn. Este argumento irá manter as devidas proporções das classes de `y` para treino e teste."
      ]
    },
    {
      "cell_type": "code",
      "execution_count": null,
      "id": "74dbec5e",
      "metadata": {
        "id": "74dbec5e"
      },
      "outputs": [],
      "source": [
        "# Divisão dos dados em Treino e Teste\n",
        "X_train, X_test, y_train, y_test = train_test_split(X, y, \n",
        "                                                   test_size=0.30,\n",
        "                                                   random_state=1,\n",
        "                                                   stratify=y) # mantém as proporções das classes"
      ]
    },
    {
      "cell_type": "markdown",
      "id": "875c1706",
      "metadata": {
        "id": "875c1706"
      },
      "source": [
        "Lembram que as classes estavam desbalanceadas? Isso é de se esperar, pois muito provavelmente apenas uma parcela pequena de clientes de um banco devem ser inadimplentes.\n",
        "\n",
        "Nesse nosso caso, temos 70% de clientes não inadimplentes (Classe 0) e 30% de clientes inadimplentes (Classe 1). Ao usarmos o argumento `stratify=y` na função `train_test_split()`, nós dizemos para a biblioteca manter essa proporção quando fizer a divisão entre bases de treino e base de teste.\n",
        "\n",
        "Vamos verificar estas proporções."
      ]
    },
    {
      "cell_type": "code",
      "execution_count": null,
      "id": "cf445e37",
      "metadata": {
        "id": "cf445e37"
      },
      "outputs": [],
      "source": [
        "# Verifica as proporções de classes nos dados\n",
        "print('### Proporção de Classes em Treino ###')\n",
        "print(f'Porcentagem de entradas Classe 0: {y_train.value_counts(normalize=True).values[0] * 100}%')\n",
        "print(f'Porcentagem de entradas Classe 1: {y_train.value_counts(normalize=True).values[1] * 100}%')\n",
        "print()\n",
        "\n",
        "print('### Proporção de Classes em Teste ###')\n",
        "print(f'Porcentagem de entradas Classe 0: {y_test.value_counts(normalize=True).values[0] * 100}%')\n",
        "print(f'Porcentagem de entradas Classe 1: {y_test.value_counts(normalize=True).values[1] * 100}%')"
      ]
    },
    {
      "cell_type": "markdown",
      "id": "13570fa9",
      "metadata": {
        "id": "13570fa9"
      },
      "source": [
        "## Funções para Performance dos Modelos\n",
        "\n",
        "Iremos agora declarar algumas funções úteis para monitorarmos a performance dos nossos modelos.\n",
        "\n",
        "Se você precisa entender melhor como avaliamos modelos de classificação, recomendo fortemente a leitura do post [Medidas de Performance: Modelos de Classificação](https://brains.dev/2023/medidas-de-performance-modelos-de-classificacao/)."
      ]
    },
    {
      "cell_type": "code",
      "execution_count": null,
      "id": "6e43aeca",
      "metadata": {
        "id": "6e43aeca"
      },
      "outputs": [],
      "source": [
        "def performance_modelo_classificacao(\n",
        "    model: object,\n",
        "    flag: Optional[bool] = True):\n",
        "    \n",
        "    '''\n",
        "    Função para computar as diferentes métricas de performance para modelos de classificação.\n",
        "\n",
        "    model: modelo para prever os valores de X\n",
        "    flag: se imprimimos ou não os resultados\n",
        "    '''\n",
        "    \n",
        "    # Lista para armazenar os resultados de Treino e Validação\n",
        "    score_list = []\n",
        "    \n",
        "    # Predição em Treino e Validação\n",
        "    pred_train = model.predict(X_train)\n",
        "    pred_val = model.predict(X_test)\n",
        "    \n",
        "    # Acurácia do modelo\n",
        "    train_acc = model.score(X_train, y_train)\n",
        "    val_acc = model.score(X_test, y_test)\n",
        "    \n",
        "    # Recall do modelo \n",
        "    train_recall = recall_score(y_train, pred_train)\n",
        "    val_recall = recall_score(y_test, pred_val)\n",
        "    \n",
        "    # Precisão do modelo\n",
        "    train_prec = precision_score(y_train, pred_train)\n",
        "    val_prec = precision_score(y_test, pred_val)\n",
        "    \n",
        "    # F1-Score do modelo\n",
        "    train_f1 = f1_score(y_train, pred_train)\n",
        "    val_f1 = f1_score(y_test, pred_val)\n",
        "    \n",
        "    # Popula a lista\n",
        "    score_list.extend((train_acc, val_acc, train_recall, val_recall, train_prec, val_prec, train_f1, val_f1))\n",
        "    \n",
        "    # Imprime a lista se flag=True (default)\n",
        "    if flag:\n",
        "        print(f'Acurácia na base de Treino: {train_acc}')\n",
        "        print(f'Acurácia na base de Teste: {val_acc}')\n",
        "        print(f'\\nRecall na base de Treino: {train_recall}')\n",
        "        print(f'Recall na base de Teste: {val_recall}')\n",
        "        print(f'\\nPrecisão na base de Treino: {train_prec}')\n",
        "        print(f'Precisão na base de Teste: {val_prec}')\n",
        "        print(f'\\nF1-Score na base de Treino: {train_f1}')\n",
        "        print(f'F1-Score na base de Teste: {val_f1}')\n",
        "        \n",
        "    # Retorna a lista de valores em Treino e Validação\n",
        "    return score_list"
      ]
    },
    {
      "cell_type": "code",
      "execution_count": null,
      "id": "c70164a6",
      "metadata": {
        "id": "c70164a6"
      },
      "outputs": [],
      "source": [
        "def matriz_confusao(\n",
        "    model: object,\n",
        "    X: pd.DataFrame,\n",
        "    y_actual: pd.Series,\n",
        "    labels: Optional[tuple] = (1, 0)):\n",
        "    \n",
        "    '''\n",
        "    Plota a Matriz de Confusão com porcentagens.\n",
        "\n",
        "    model: modelo para prever os valores de X\n",
        "    X: atributos usados para a classficação\n",
        "    y_actual: classificação real, variável alvo\n",
        "    '''\n",
        "    \n",
        "    # Predição em Validação\n",
        "    y_predict = model.predict(X)\n",
        "    \n",
        "    # Pega os dados da Matriz de Confusão\n",
        "    cm = confusion_matrix(y_actual, y_predict, labels=[0, 1])\n",
        "    df_cm = pd.DataFrame(cm, index=['Real - Não (0)', 'Real - Sim (1)'],\n",
        "                        columns=['Previsto - Não (0)', 'Previsto - Sim (1)'])\n",
        "    \n",
        "    # List of labels for the Confusion Matrix\n",
        "    group_counts = [f'{value:.0f}' for value in cm.flatten()]\n",
        "    group_percentages = [f'{value:.2f}%' for value in (cm.flatten()/np.sum(cm))*100]\n",
        "    \n",
        "    labels = [f'{v1}\\n{v2}' for v1, v2 in zip(group_counts, group_percentages)]\n",
        "    labels = np.asarray(labels).reshape(2, 2)\n",
        "    \n",
        "    # Plot the Confusion Matrix\n",
        "    plt.figure(figsize=(10, 7))\n",
        "    sns.heatmap(df_cm, annot=labels, fmt='')\n",
        "    plt.xlabel('Classe Prevista', fontweight='bold')\n",
        "    plt.ylabel('Classe Verdadeira', fontweight='bold')\n",
        "    plt.show()"
      ]
    },
    {
      "cell_type": "code",
      "execution_count": null,
      "id": "ed0b3b17",
      "metadata": {
        "id": "ed0b3b17"
      },
      "outputs": [],
      "source": [
        "def importancias_variaveis(model: object):\n",
        "    '''\n",
        "    model: modelo para prever os valores de X\n",
        "    '''\n",
        "    \n",
        "    importances = model.feature_importances_\n",
        "    indices = np.argsort(importances)\n",
        "    feature_names = list(X.columns)\n",
        "    \n",
        "    plt.figure(figsize=(12,12))\n",
        "    plt.barh(y=range(len(indices)), width=importances[indices], color='violet', align='center')\n",
        "    plt.title('Importância do Atributo', fontsize=16, fontweight='bold')\n",
        "    plt.yticks(range(len(indices)), [feature_names[i] for i in indices])\n",
        "    plt.xlabel('Importância Relativa', fontweight='bold')\n",
        "    plt.show()"
      ]
    },
    {
      "cell_type": "markdown",
      "id": "8f327539",
      "metadata": {
        "id": "8f327539"
      },
      "source": [
        "## Treino dos Modelos de Árvores de Decisão\n",
        "\n",
        "O treino do nosso primeiro modelo vai ser extremamente simples. Depois iremos adicionar um pouco de complexidade.\n",
        "\n",
        "Nós iremos usar a classe [sklearn.tree.DecisionTreeClassifier](https://scikit-learn.org/stable/modules/generated/sklearn.tree.DecisionTreeClassifier.html) para construir de forma automatizada a nossa melhor Árvore de Decisão.\n",
        "\n",
        "Para isso iremos instanciar um objeto `DecisionTreeClassifier()` e fazermos com que ele se ajuste aos nossos dados de treino, que é o nosso processo de treino, com o método `.fit()`."
      ]
    },
    {
      "cell_type": "markdown",
      "id": "86b09c19",
      "metadata": {
        "id": "86b09c19"
      },
      "source": [
        "### Criando e Treinando o Modelo"
      ]
    },
    {
      "cell_type": "code",
      "execution_count": null,
      "id": "bcd75519",
      "metadata": {
        "id": "bcd75519"
      },
      "outputs": [],
      "source": [
        "# Instanciando o Modelo\n",
        "arvore_d = DecisionTreeClassifier(random_state=1)\n",
        "\n",
        "# Treinando o modelo\n",
        "arvore_d.fit(X_train, y_train)"
      ]
    },
    {
      "cell_type": "markdown",
      "id": "da3f18b5",
      "metadata": {
        "id": "da3f18b5"
      },
      "source": [
        "### Métricas da Árvore de Decisão"
      ]
    },
    {
      "cell_type": "code",
      "execution_count": null,
      "id": "e736919c",
      "metadata": {
        "id": "e736919c"
      },
      "outputs": [],
      "source": [
        "arvore_d_scores = performance_modelo_classificacao(arvore_d)"
      ]
    },
    {
      "cell_type": "markdown",
      "id": "2896ce63",
      "metadata": {
        "id": "2896ce63"
      },
      "source": [
        "Perceberam um **forte** Overfitting? A Árvore de Decisão cresceu sem controle e acertou 100% de todas as observações de treino, mas falhou na base de teste. Aparentemente o modelo está decorando as respostas da base de treino e sua performance real está similar a jogar cara ou coroa.\n",
        "\n",
        "Vamos tentar visualizar isso na Matriz de Confusão.\n",
        "\n",
        "### Matriz de Confusão para a Árvore de Decisão"
      ]
    },
    {
      "cell_type": "code",
      "execution_count": null,
      "id": "8068f9bc",
      "metadata": {
        "id": "8068f9bc"
      },
      "outputs": [],
      "source": [
        "# Matriz de Confusão de treino\n",
        "matriz_confusao(arvore_d, X_train, y_train)"
      ]
    },
    {
      "cell_type": "code",
      "execution_count": null,
      "id": "102a270e",
      "metadata": {
        "id": "102a270e"
      },
      "outputs": [],
      "source": [
        "# Matriz de Confusão de teste\n",
        "matriz_confusao(arvore_d, X_test, y_test)"
      ]
    },
    {
      "cell_type": "markdown",
      "id": "5ddc5892",
      "metadata": {
        "id": "5ddc5892"
      },
      "source": [
        "Perceberam que na primeira matriz tivemos 0 erros e na segunda muitos erros?\n",
        "\n",
        "Vamos agora visualizar quais decisões essa árvore está tomando, e em que ordem.\n",
        "\n",
        "### Visualizando a Árvore de Decisão"
      ]
    },
    {
      "cell_type": "code",
      "execution_count": null,
      "id": "af1065ac",
      "metadata": {
        "id": "af1065ac"
      },
      "outputs": [],
      "source": [
        "feature_names = list(X_train.columns)\n",
        "\n",
        "plt.figure(figsize=(20, 30))\n",
        "tree.plot_tree(arvore_d, feature_names=feature_names, filled=True,\n",
        "            fontsize=9, node_ids=True, class_names=True);"
      ]
    },
    {
      "cell_type": "markdown",
      "id": "4cd51d7a",
      "metadata": {
        "id": "4cd51d7a"
      },
      "source": [
        "É uma árvore extremamente complexa e profunda! Um modelo complexo demais tende ao Overfitting. Para evitar que nossas Árvores de Decisão crescam sem controle, nós vamos fazer uso de uma técnica de **Poda**. Vamos fazer a **Pré-Poda**, para sermos mais exatos.\n",
        "\n",
        "## Árvore de Decisão com Pré-Poda\n",
        "\n",
        "Vamos, primeiramente, controlar a profundidade desta Árvore de Decisão a deixando mais simples. Para isso, vamos usar o parâmetro `max_depth` quando instanciarmos o objeto do modelo."
      ]
    },
    {
      "cell_type": "markdown",
      "id": "5cb4a2a1",
      "metadata": {
        "id": "5cb4a2a1"
      },
      "source": [
        "### Criando e Treinando a Árvore de Decisão Podada"
      ]
    },
    {
      "cell_type": "code",
      "execution_count": null,
      "id": "5b2f875f",
      "metadata": {
        "id": "5b2f875f"
      },
      "outputs": [],
      "source": [
        "# Instanciando o Modelo\n",
        "arvore_d1 = DecisionTreeClassifier(random_state=1, max_depth=3)\n",
        "\n",
        "# Treinando o modelo\n",
        "arvore_d1.fit(X_train, y_train)"
      ]
    },
    {
      "cell_type": "markdown",
      "id": "a6718ba8",
      "metadata": {
        "id": "a6718ba8"
      },
      "source": [
        "### Métricas da Árvore de Decisão Podada"
      ]
    },
    {
      "cell_type": "code",
      "execution_count": null,
      "id": "a6818517",
      "metadata": {
        "id": "a6818517"
      },
      "outputs": [],
      "source": [
        "arvore_d1_scores = performance_modelo_classificacao(arvore_d1)"
      ]
    },
    {
      "cell_type": "markdown",
      "id": "b9058162",
      "metadata": {
        "id": "b9058162"
      },
      "source": [
        "Agora parece que nós temos um **Underfitting**, concordam? Talvez o modelo esteja simples demais para aprender algo suficiente da base de treino.\n",
        "\n",
        "Vamos analisar novamente a Matriz de Confusão."
      ]
    },
    {
      "cell_type": "code",
      "execution_count": null,
      "id": "1959534b",
      "metadata": {
        "id": "1959534b"
      },
      "outputs": [],
      "source": [
        "# Matriz de Confusão de treino\n",
        "matriz_confusao(arvore_d1, X_train, y_train)"
      ]
    },
    {
      "cell_type": "markdown",
      "id": "b53a2923",
      "metadata": {
        "id": "b53a2923"
      },
      "source": [
        "### Visualizando a Árvore de Decisão Podada"
      ]
    },
    {
      "cell_type": "code",
      "execution_count": null,
      "id": "ec77cf16",
      "metadata": {
        "id": "ec77cf16"
      },
      "outputs": [],
      "source": [
        "feature_names = list(X_train.columns)\n",
        "\n",
        "plt.figure(figsize=(15, 10))\n",
        "tree.plot_tree(arvore_d1, feature_names=feature_names, filled=True,\n",
        "            fontsize=9, node_ids=True, class_names=True);"
      ]
    },
    {
      "cell_type": "markdown",
      "id": "8c34e4e7",
      "metadata": {
        "id": "8c34e4e7"
      },
      "source": [
        "De fato a nossa Árvore de Decisão está bem simples. Aparentemente simples **demais** para nossos dados, causando assim um **Underfitting**.\n",
        "\n",
        "Ajustar a profundidade máxima da árvore para três níveis não foi uma boa estratégia. Vocês devem se lembrar que temos outros parâmetros que podemos trabalhar para controlar o crescimento da árvore, certo? Se você não lembra, leia o post [Árvores de Decisão: Algoritmos Baseados em Árvores](https://brains.dev/2023/arvores-de-decisao-algoritmos-baseados-em-arvores/).\n",
        "\n",
        "Mas como encontrar os valores ideais de parâmetros?\n",
        "\n",
        "## Ajuste de Hiperparâmetros\n",
        "\n",
        "O **Ajuste de Hiperparâmatros** (do Inglês, *Hyperparameter Tuning*) é o processo de realizar alterações nos parâmetros de um modelo com o intuíto de melhorar a sua performance.\n",
        "\n",
        "Para isso podemos usar a classe [`GridSearchCV()`](https://scikit-learn.org/stable/modules/generated/sklearn.model_selection.GridSearchCV.html), que fará uma série de tentativas combinando diferentes parâmetros definidos dentro de uma grade e implementando a Validação Cruzada (*Cross Validation*) para chegar até a melhor combinação.\n",
        "\n",
        "### Criando e Treinando a Árvore de Decisão Tunada"
      ]
    },
    {
      "cell_type": "code",
      "execution_count": null,
      "id": "06c5f92d",
      "metadata": {
        "id": "06c5f92d"
      },
      "outputs": [],
      "source": [
        "# Escolhe o Algoritmo\n",
        "algo = DecisionTreeClassifier(random_state=1)\n",
        "\n",
        "# Grade de parâmetros para combinar\n",
        "parameters = {'max_depth': np.arange(1, 10),\n",
        "             'min_samples_leaf': [1, 2, 5, 7, 10, 15, 20],\n",
        "             'max_leaf_nodes': [2, 3, 5, 10],\n",
        "             'min_impurity_decrease': [0.001, 0.01, 0.1]\n",
        "             }\n",
        "\n",
        "# Métrica usada para comparar as combinações de parâmetros\n",
        "acc_scorer = metrics.make_scorer(metrics.recall_score)\n",
        "\n",
        "# Roda a Grid Search\n",
        "grid_obj = GridSearchCV(algo, parameters, scoring=acc_scorer, cv=5)\n",
        "grid_obj = grid_obj.fit(X_train, y_train)\n",
        "\n",
        "# Cria o modelo com a melhor combinação\n",
        "arvore_d2 = grid_obj.best_estimator_\n",
        "\n",
        "# Treina o modelo\n",
        "arvore_d2.fit(X_train, y_train)"
      ]
    },
    {
      "cell_type": "markdown",
      "id": "16f06877",
      "metadata": {
        "id": "16f06877"
      },
      "source": [
        "### Métricas da Árvore de Decisão Tunada"
      ]
    },
    {
      "cell_type": "code",
      "execution_count": null,
      "id": "5bf074de",
      "metadata": {
        "id": "5bf074de"
      },
      "outputs": [],
      "source": [
        "arvore_d2_scores = performance_modelo_classificacao(arvore_d2)"
      ]
    },
    {
      "cell_type": "markdown",
      "id": "5378d74f",
      "metadata": {
        "id": "5378d74f"
      },
      "source": [
        "Você deve ter notado que todas essas tentativas de diferentes combinações de parâmetros demora um pouco para executar. Mas vejam só! Nossa profundidade ideal é de 7 níveis, com 10 nós folhas. O algoritmo escolheu essa melhor combinação dentro do espaço amostral que oferecemos pra ele.\n",
        "\n",
        "Genial, né? E nosso modelo teve uma certa melhora. Vamos ver a Matriz de Confusão?\n",
        "\n",
        "### Matriz de Confusão para a Árvore de Decisão Tunada"
      ]
    },
    {
      "cell_type": "code",
      "execution_count": null,
      "id": "b3596987",
      "metadata": {
        "id": "b3596987"
      },
      "outputs": [],
      "source": [
        "# Matriz de Confusão de treino\n",
        "matriz_confusao(arvore_d2, X_train, y_train)"
      ]
    },
    {
      "cell_type": "code",
      "execution_count": null,
      "id": "593a8542",
      "metadata": {
        "id": "593a8542"
      },
      "outputs": [],
      "source": [
        "# Matriz de Confusão de teste\n",
        "matriz_confusao(arvore_d2, X_test, y_test)"
      ]
    },
    {
      "cell_type": "markdown",
      "id": "b639257c",
      "metadata": {
        "id": "b639257c"
      },
      "source": [
        "----------------\n",
        "\n",
        "# Comparando os Modelos\n",
        "\n",
        "Agora vamos listar todos os modelos para compararmos as métricas de performance."
      ]
    },
    {
      "cell_type": "code",
      "execution_count": null,
      "id": "822be8f3",
      "metadata": {
        "id": "822be8f3"
      },
      "outputs": [],
      "source": [
        "# Lista com todos os modelos\n",
        "modelos = ['Árvore de Decisão',\n",
        "          'Árvore de Decisão Podada', \n",
        "          'Árvore de Decisão Tunada']\n",
        "\n",
        "# Nomes das colunas\n",
        "colunas = ['Treino_Acurarcia', 'Val_Acurarcia', 'Treino_Recall', 'Val_Recall',\n",
        "          'Treino_Precisao', 'Val_Precisao', 'Treino_F1', 'Val_F1']\n",
        "\n",
        "# DataFrame com todos os modelos e seus respectivos scores\n",
        "modelos_scores = pd.DataFrame([arvore_d_scores, arvore_d1_scores, arvore_d2_scores], \n",
        "                             columns=colunas, index=modelos).apply(lambda x: round(x, 2))\n",
        "\n",
        "modelos_scores.T"
      ]
    },
    {
      "cell_type": "markdown",
      "id": "8dfdb9dc",
      "metadata": {
        "id": "8dfdb9dc"
      },
      "source": [
        "# Conclusões\n",
        "\n",
        "- Todos os nossos modelos estão ou apresentando Overfitting ou apresentando Underfitting até o momento.\n",
        "\n",
        "- Não conseguimos encontrar ainda um algoritmo que apresente uma performance aceitável para o nosso objetivo com este projeto.\n",
        "\n",
        "- Provavelmente precisaremos usar um algoritmo mais avançado para este problema. Possivelmente as [Random Forests](https://brains.dev/2023/random-forests-algoritmos-baseados-em-arvores/) sejam uma boa escolha!\n",
        "\n",
        "<br>\n",
        "\n",
        "Caso tenha ficado com alguma dúvida, entre em contato conosco pelo site do [brains.dev](https://brains.dev). \n",
        "\n",
        "Colabore com a nossa comunidade trazendo conteúdo de qualidade em Português, seja conteúdo próprio ou traduzido. Iremos ficar muito felizes de receber material de vocês.\n",
        "\n",
        "Para conhecer mais sobre nós e saber como colaborar, visite o post abaixo.\n",
        "\n",
        "- [**Bem-vindos ao BRAINS**](https://brains.dev/2022/bem-vindos-ao-brains/)\n",
        "\n",
        "É sempre um prazer estar com vocês por aqui!\n",
        "\n",
        "<br>\n",
        "\n",
        "<center><h2>#NoBrains #NoGains 🧠</h2></center>"
      ]
    }
  ],
  "metadata": {
    "kernelspec": {
      "display_name": "Python 3 (ipykernel)",
      "language": "python",
      "name": "python3"
    },
    "language_info": {
      "codemirror_mode": {
        "name": "ipython",
        "version": 3
      },
      "file_extension": ".py",
      "mimetype": "text/x-python",
      "name": "python",
      "nbconvert_exporter": "python",
      "pygments_lexer": "ipython3",
      "version": "3.9.7"
    },
    "colab": {
      "provenance": [],
      "include_colab_link": true
    }
  },
  "nbformat": 4,
  "nbformat_minor": 5
}